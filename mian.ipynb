{
 "cells": [
  {
   "cell_type": "code",
   "execution_count": 33,
   "id": "3792f440-de8e-479e-9940-802cb2e572c9",
   "metadata": {
    "tags": []
   },
   "outputs": [],
   "source": [
    "#import the pathlib and csv library \n",
    "from pathlib import Path \n",
    "import csv"
   ]
  },
  {
   "cell_type": "code",
   "execution_count": 34,
   "id": "6743fac7-fa67-4d49-a785-0cccec5383ae",
   "metadata": {
    "tags": []
   },
   "outputs": [],
   "source": [
    "#files to load and output \n",
    "file_to_load = Path(\"budget_data.csv\")\n",
    "file_to_output = Path(\"budget_analysis.txt\")"
   ]
  },
  {
   "cell_type": "code",
   "execution_count": 35,
   "id": "2e0897b2-69bd-41be-8e01-6c41cc1020cd",
   "metadata": {
    "tags": []
   },
   "outputs": [],
   "source": [
    "#list various financial parameters\n",
    "total_months = 0\n",
    "month_of_change = []\n",
    "net_change_list = []\n",
    "greatest_increase = [\"\", 0]\n",
    "greatest_decrease = [\"\", 9999999999999999999]\n",
    "total_net = 0"
   ]
  },
  {
   "cell_type": "code",
   "execution_count": 36,
   "id": "bc8990fa-34d4-4dd3-bbaa-92102266555c",
   "metadata": {
    "tags": []
   },
   "outputs": [],
   "source": [
    "#read the csv and convert it into lists\n",
    "with open(file_to_load) as financial_data:\n",
    "    reader = csv.reader(financial_data)\n",
    "    \n",
    "    #read the header \n",
    "    header = next(reader)\n",
    "    \n",
    "    #first row\n",
    "    first_row = next(reader)\n",
    "    total_months = total_months + 1\n",
    "    total_net = total_net + int(first_row[1])\n",
    "    prev_net = int(first_row[1])\n",
    "    \n",
    "    #metrics\n",
    "    for row in reader:\n",
    "        #track the total\n",
    "        total_months = total_months + 1\n",
    "        total_net = total_net + int(row[1])\n",
    "        \n",
    "        #track the net change\n",
    "        net_change = int(row[1]) - prev_net\n",
    "        prev_net = int(row[1])\n",
    "        net_change_list = net_change_list + [net_change]\n",
    "        month_of_change = month_of_change + [row[0]]\n",
    "        \n",
    "        #calculate the greatest increase\n",
    "        if net_change > greatest_increase[1]:\n",
    "            greatest_increase[0] = row[0]\n",
    "            greatest_increase[1] = net_change\n",
    "            \n",
    "        #calculate the greatest decrease\n",
    "        if net_change < greatest_decrease[1]:\n",
    "            greatest_decrease[0] = row[0]\n",
    "            greatest_decrease[1] = net_change"
   ]
  },
  {
   "cell_type": "code",
   "execution_count": 37,
   "id": "dc836584-a845-4e96-834a-9320f661f4d8",
   "metadata": {
    "tags": []
   },
   "outputs": [],
   "source": [
    "#calculate the average net change\n",
    "net_monthly_average = round(sum(net_change_list) / len(net_change_list),2)"
   ]
  },
  {
   "cell_type": "code",
   "execution_count": 45,
   "id": "23ed1e5f-d918-4c65-a46b-031df779da74",
   "metadata": {
    "tags": []
   },
   "outputs": [],
   "source": [
    "#export results to txt file\n",
    "with open (file_to_output, \"w\") as txt_file:\n",
    "    txt_file.write(f\"financial analysis\\n\")\n",
    "    txt_file.write(f\"----------------\\n\")\n",
    "    txt_file.write(f\"total months: {total_months}\\n\")\n",
    "    txt_file.write(f\"total: ${total_net}\\n\")\n",
    "    txt_file.write(f\"average change: ${net_monthly_average}\\n\")\n",
    "    txt_file.write(f\"greatest increase in profits: {greatest_increase[0]} (${greatest_increase[1]})\\n\")\n",
    "    txt_file.write(f\"greatest decrease in profits: {greatest_decrease[0]} (${greatest_decrease[1]})\\n\")"
   ]
  },
  {
   "cell_type": "code",
   "execution_count": 41,
   "id": "28674a85-5974-4377-9ed6-ac2e1f91c5b2",
   "metadata": {
    "tags": []
   },
   "outputs": [
    {
     "data": {
      "text/plain": [
       "532869"
      ]
     },
     "execution_count": 41,
     "metadata": {},
     "output_type": "execute_result"
    }
   ],
   "source": [
    "net_change"
   ]
  },
  {
   "cell_type": "code",
   "execution_count": null,
   "id": "05a37c4a-d962-46e8-bf4e-2abc56a8104f",
   "metadata": {},
   "outputs": [],
   "source": []
  }
 ],
 "metadata": {
  "kernelspec": {
   "display_name": "Python 3 (ipykernel)",
   "language": "python",
   "name": "python3"
  },
  "language_info": {
   "codemirror_mode": {
    "name": "ipython",
    "version": 3
   },
   "file_extension": ".py",
   "mimetype": "text/x-python",
   "name": "python",
   "nbconvert_exporter": "python",
   "pygments_lexer": "ipython3",
   "version": "3.11.4"
  }
 },
 "nbformat": 4,
 "nbformat_minor": 5
}
